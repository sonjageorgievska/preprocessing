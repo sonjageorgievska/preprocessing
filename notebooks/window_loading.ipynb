{
 "cells": [
  {
   "cell_type": "code",
   "execution_count": 1,
   "metadata": {},
   "outputs": [],
   "source": [
    "import rasterio\n",
    "import numpy as np\n",
    "from rasterio import windows\n",
    "from itertools import product"
   ]
  },
  {
   "cell_type": "markdown",
   "metadata": {},
   "source": [
    "# Window loading"
   ]
  },
  {
   "cell_type": "code",
   "execution_count": 2,
   "metadata": {},
   "outputs": [],
   "source": [
    "def get_windows(src, overlap, width, height, boundless=True):\n",
    "    offsets = product(range(0, src.meta['width'], width), range(0, src.meta['height'], height))\n",
    "    full_window = windows.Window(col_off=0, row_off=0, width=src.meta['width'], height=src.meta['height'])\n",
    "    for col_off, row_off in offsets:\n",
    "        window = windows.Window(\n",
    "            col_off=col_off - overlap,\n",
    "            row_off=row_off - overlap,\n",
    "            width=width,\n",
    "            height=height)\n",
    "        \n",
    "        if boundless:\n",
    "            yield window\n",
    "        else:\n",
    "            yield window.intersection(full_window)\n"
   ]
  },
  {
   "cell_type": "code",
   "execution_count": 3,
   "metadata": {},
   "outputs": [],
   "source": [
    "width = 20\n",
    "height = 20\n",
    "overlap = 5\n",
    "\n",
    "source_data = \"../../data/TestDataSet/S2_comp_first.tif\"\n",
    "outdir = \"./retiled_images/\"\n",
    "\n",
    "from pathlib import Path\n",
    "Path(outdir).mkdir(parents=True, exist_ok=True)\n"
   ]
  },
  {
   "cell_type": "code",
   "execution_count": 4,
   "metadata": {},
   "outputs": [
    {
     "name": "stdout",
     "output_type": "stream",
     "text": [
      "CPU times: user 16.4 s, sys: 659 ms, total: 17 s\n",
      "Wall time: 20.2 s\n"
     ]
    }
   ],
   "source": [
    "%%time\n",
    "import xarray as xr\n",
    "with rasterio.open(source_data) as src:\n",
    "    window_list = [w for w in get_windows(src, overlap, width, height)]\n",
    "    arrays = [src.read([1, 2, 3], window=window, boundless=False) for window in window_list]"
   ]
  },
  {
   "cell_type": "code",
   "execution_count": 5,
   "metadata": {},
   "outputs": [],
   "source": [
    "outpath_list = [outdir+'tile_{}.tif'.format(count) for count in range(len(arrays))]"
   ]
  },
  {
   "cell_type": "code",
   "execution_count": 6,
   "metadata": {
    "scrolled": true
   },
   "outputs": [
    {
     "name": "stdout",
     "output_type": "stream",
     "text": [
      "CPU times: user 31min 56s, sys: 8min 53s, total: 40min 50s\n",
      "Wall time: 9h 21min 10s\n"
     ]
    }
   ],
   "source": [
    "%%time\n",
    "import concurrent.futures\n",
    "\n",
    "with rasterio.open(source_data) as src:\n",
    "    def write_array(array, window, outpath):\n",
    "        profile = src.profile\n",
    "        profile.update(\n",
    "            transform=src.window_transform(window),\n",
    "            height=window.height,\n",
    "            width=window.width)\n",
    "        with rasterio.open(outpath, 'w', **profile) as dst:\n",
    "            dst.write(array)\n",
    "    \n",
    "    with concurrent.futures.ThreadPoolExecutor(\n",
    "            max_workers=8\n",
    "        ) as executor:\n",
    "            futures = executor.map(write_array, arrays, window_list, outpath_list)"
   ]
  }
 ],
 "metadata": {
  "kernelspec": {
   "display_name": "Python 3",
   "language": "python",
   "name": "python3"
  },
  "language_info": {
   "codemirror_mode": {
    "name": "ipython",
    "version": 3
   },
   "file_extension": ".py",
   "mimetype": "text/x-python",
   "name": "python",
   "nbconvert_exporter": "python",
   "pygments_lexer": "ipython3",
   "version": "3.9.1"
  }
 },
 "nbformat": 4,
 "nbformat_minor": 4
}
