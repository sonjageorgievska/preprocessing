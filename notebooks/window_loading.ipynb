{
 "cells": [
  {
   "cell_type": "code",
   "execution_count": 1,
   "metadata": {},
   "outputs": [],
   "source": [
    "import rasterio\n",
    "import numpy as np\n",
    "from rasterio import windows\n",
    "from itertools import product"
   ]
  },
  {
   "cell_type": "markdown",
   "metadata": {},
   "source": [
    "# Window loading"
   ]
  },
  {
   "cell_type": "code",
   "execution_count": 25,
   "metadata": {},
   "outputs": [],
   "source": [
    "def window_overlap(src, overlap, width, height, boundless=True):\n",
    "    offsets = product(range(0, src.meta['width'], width), range(0, src.meta['height'], height))\n",
    "    full_window = windows.Window(col_off=0, row_off=0, width=src.meta['width'], height=src.meta['height'])\n",
    "    for col_off, row_off in offsets:\n",
    "        window = windows.Window(\n",
    "            col_off=col_off - overlap,\n",
    "            row_off=row_off - overlap,\n",
    "            width=width,\n",
    "            height=height)\n",
    "        \n",
    "        if boundless:\n",
    "            yield window\n",
    "        else:\n",
    "            yield window.intersection(full_window)\n"
   ]
  },
  {
   "cell_type": "code",
   "execution_count": 51,
   "metadata": {
    "scrolled": true
   },
   "outputs": [
    {
     "name": "stdout",
     "output_type": "stream",
     "text": [
      "CPU times: user 7min 53s, sys: 12.2 s, total: 8min 5s\n",
      "Wall time: 12min 9s\n"
     ]
    }
   ],
   "source": [
    "%%time\n",
    "# use composite image as test tile\n",
    "path_s2 = \"../../data/TestDataSet/S2_comp_first.tif\"\n",
    "\n",
    "width = 32\n",
    "height = 32\n",
    "overlap = 4\n",
    "\n",
    "ls_stamp = []\n",
    "# %load_ext memory_profiler\n",
    "with rasterio.open('../../data/TestDataSet/S2_comp_first.tif') as src:\n",
    "    for w in window_overlap(src, overlap, width, height):\n",
    "        ls_stamp.append(src.read([1,2,3], window=w, boundless=True))\n",
    "stamp = np.stack(ls_stamp)"
   ]
  },
  {
   "cell_type": "code",
   "execution_count": 53,
   "metadata": {},
   "outputs": [
    {
     "data": {
      "text/plain": [
       "(97969, 3, 32, 32)"
      ]
     },
     "execution_count": 53,
     "metadata": {},
     "output_type": "execute_result"
    }
   ],
   "source": [
    "stamp.shape"
   ]
  }
 ],
 "metadata": {
  "kernelspec": {
   "display_name": "Python 3",
   "language": "python",
   "name": "python3"
  },
  "language_info": {
   "codemirror_mode": {
    "name": "ipython",
    "version": 3
   },
   "file_extension": ".py",
   "mimetype": "text/x-python",
   "name": "python",
   "nbconvert_exporter": "python",
   "pygments_lexer": "ipython3",
   "version": "3.9.1"
  }
 },
 "nbformat": 4,
 "nbformat_minor": 4
}
